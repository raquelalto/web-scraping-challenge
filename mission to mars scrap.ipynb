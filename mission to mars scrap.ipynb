{
 "cells": [
  {
   "cell_type": "code",
   "execution_count": null,
   "metadata": {},
   "outputs": [],
   "source": [
    "titles = soup.find_all(\"image_and_description_container\")\n",
    "\n",
    "newsTitle1 = []\n",
    "\n",
    "for title in titles:\n",
    "    if (image_and_description_container.a):\n",
    "        if(image_and_description_container.a.text):\n",
    "            newsTitle1.append(titles)\n",
    "print(newsTitle1)\n",
    "\n",
    "for x in range(len(newsTitle1)):\n",
    "    print(newsTitle1[x].text)"
   ]
  },
  {
   "cell_type": "code",
   "execution_count": null,
   "metadata": {},
   "outputs": [],
   "source": [
    "print(soup.prettify())"
   ]
  },
  {
   "cell_type": "code",
   "execution_count": null,
   "metadata": {},
   "outputs": [],
   "source": [
    "results = soup.find_all('li', class_=\"slide\")\n",
    "\n",
    "for result in results:\n",
    "    try:\n",
    "        head = result.find('a', class_=\"image_and_description_container\").text\n",
    "        descript = result.a.text\n",
    "        link = result.a['href']\n",
    "        \n",
    "        if (head and descript and link):\n",
    "            print('---------')\n",
    "            print(head)\n",
    "            print(descript)\n",
    "    except Exception as e:\n",
    "        print(e)"
   ]
  },
  {
   "cell_type": "code",
   "execution_count": null,
   "metadata": {},
   "outputs": [],
   "source": [
    "or result in results:\n",
    "    # Error handling\n",
    "    try:\n",
    "        # Identify and return title of listing\n",
    "        newsTitles = result.find('div', class_=\"content_title\")\n",
    "        # Identify and return price of listing\n",
    "        teaser = result.a.span\n",
    "        link = result.a['href']\n",
    "    \n",
    "\n",
    "        # Print results only if title, price, and link are available\n",
    "        if (newsTitles and teaser):\n",
    "            print('-------------')\n",
    "            print(newsTitles)\n",
    "            print(teaser)\n",
    "    except AttributeError as e:\n",
    "        print(e)"
   ]
  },
  {
   "cell_type": "code",
   "execution_count": null,
   "metadata": {},
   "outputs": [],
   "source": [
    "def init_browser():\n",
    "    # @NOTE: Replace the path with your actual path to the chromedriver\n",
    "    executable_path = {\"executable_path\": \"/usr/local/Caskroom/chromedriver\"}\n",
    "    return Browser(\"chrome\", **executable_path, headless=False)"
   ]
  },
  {
   "cell_type": "code",
   "execution_count": null,
   "metadata": {},
   "outputs": [],
   "source": [
    "# Scrape for News Title and Paragraph text. \n",
    "# Assign the text to variables you can then reference \n",
    "\n",
    "# results = soup.find_all('div', class_='content_title')\n",
    "newsTitles = soup.find('div', class_ ='content_title')\n",
    "# teaser = soup.find('div', class_='article_teaser_body')\n",
    "\n",
    "print(results)\n",
    "# print(teaser)print(results)\n",
    "# print(teaser)"
   ]
  },
  {
   "cell_type": "code",
   "execution_count": null,
   "metadata": {},
   "outputs": [],
   "source": [
    "newsTitles = soup.find_all('a', href_ ='content_title').text"
   ]
  },
  {
   "cell_type": "code",
   "execution_count": null,
   "metadata": {},
   "outputs": [],
   "source": [
    "def news_scrape(browser):\n",
    "    url = 'https://mars.nasa.gov/news/?page=0&per_page=40&order=publish_date+desc%2Ccreated_at+desc&search=&category=19%2C165%2C184%2C204&blank_scope=Latest'\n",
    "    browser.visit(url)\n",
    "    soup = BeautifulSoup(html, \"html.parser\")\n",
    "    response = requests.get(url)\n",
    "    html = browser.html\n",
    "    \n",
    "    try:\n",
    "        newsTitle = soup.find_all('div', class_ ='rollover_description').text\n",
    "        teaser = soup.find_all('div', class_='rollover_description_inner').text\n",
    "    except:\n",
    "        return(None)\n",
    "    \n",
    "    return(newsTitle, teaser)"
   ]
  },
  {
   "cell_type": "code",
   "execution_count": null,
   "metadata": {},
   "outputs": [],
   "source": [
    "for result in results\n",
    "    try:\n",
    "        newsTitle = soup.find_all('div', class_ ='rollover_description').text\n",
    "        teaser = soup.find_all('div', class_='rollover_description_inner').text\n",
    "    except AttributeError as e:\n",
    "    print(e)\n",
    "\n",
    "        return(newsTitle, teaser)"
   ]
  },
  {
   "cell_type": "code",
   "execution_count": null,
   "metadata": {},
   "outputs": [],
   "source": [
    "results = soup.find_all('li', class_=\"slide\")\n",
    "\n",
    "for result in results:\n",
    "    title = result.find('a', class_='content_title').text\n",
    "    teaser = result.find('div', class_='article_teaser_body')\n",
    "    \n",
    "    print('------------')\n",
    "    print(title)\n",
    "    print(teaser)\n",
    "    \n",
    "    post = {\n",
    "        'title': title,\n",
    "        'teaser': teaser\n",
    "    }\n",
    "    \n",
    "    collection.insert_one(post)"
   ]
  },
  {
   "cell_type": "code",
   "execution_count": null,
   "metadata": {},
   "outputs": [],
   "source": [
    "title = soup.find_all('div', class_=\"content_title\")\n",
    "headlines=[]\n",
    "\n",
    "for headlines in title:\n",
    "    if (li.a and li.a.text):\n",
    "        headlines.append(li.a.text)"
   ]
  },
  {
   "cell_type": "code",
   "execution_count": null,
   "metadata": {},
   "outputs": [],
   "source": [
    "teasers = soup.find_all('div', class_ ='image_and_description_container')\n",
    "teaser=[]\n",
    "\n",
    "for teaser in teasers:\n",
    "    if (li.a and li.a.text):\n",
    "        teaser.append(li.a.text)"
   ]
  },
  {
   "cell_type": "code",
   "execution_count": null,
   "metadata": {},
   "outputs": [],
   "source": []
  }
 ],
 "metadata": {
  "kernelspec": {
   "display_name": "Python 3",
   "language": "python",
   "name": "python3"
  },
  "language_info": {
   "codemirror_mode": {
    "name": "ipython",
    "version": 3
   },
   "file_extension": ".py",
   "mimetype": "text/x-python",
   "name": "python",
   "nbconvert_exporter": "python",
   "pygments_lexer": "ipython3",
   "version": "3.7.6"
  }
 },
 "nbformat": 4,
 "nbformat_minor": 4
}
